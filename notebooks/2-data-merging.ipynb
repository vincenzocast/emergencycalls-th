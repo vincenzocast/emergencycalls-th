{
 "cells": [
  {
   "cell_type": "markdown",
   "id": "04ae914c-0145-4d8e-a982-9281674b4e6e",
   "metadata": {
    "tags": []
   },
   "source": [
    "# Step 2: Merging of grid and emergency calls data\n",
    "\n",
    "**Goal of the step**: Merge the ambulance calls and the grid dataframes based on their geographical features, perform required data preparation and add the neighbourhood data to the dataframe.\n",
    "\n",
    "**Step overview:**\n",
    "\n",
    "1. Loading of the dataframes\n",
    "2. Merging of the dataframes\n",
    "3. Preparation of the data\n",
    "4. Merging of the neighbourhood data\n",
    "\n",
    "\"m1\" is the dataframe containing data about ambulance calls, and \"m2\" is the dataframe containing data about the grid."
   ]
  },
  {
   "cell_type": "code",
   "execution_count": null,
   "id": "22b1a018-180c-4b07-a8c4-ad60b4efc255",
   "metadata": {},
   "outputs": [],
   "source": [
    "import pandas as pd\n",
    "import osmnx\n",
    "import geopandas as gpd\n",
    "import rioxarray\n",
    "import xarray\n",
    "import datashader\n",
    "import contextily as cx\n",
    "from shapely import geometry\n",
    "from shapely import wkt\n",
    "import matplotlib.pyplot as plt\n",
    "import seaborn\n",
    "from pysal.viz import splot\n",
    "from splot.esda import plot_moran\n",
    "import contextily\n",
    "from pysal.explore import esda\n",
    "from pysal.lib import weights\n",
    "from numpy.random import seed\n",
    "import os\n",
    "import seaborn as sns\n",
    "from scipy.stats import skew\n",
    "import numpy as np"
   ]
  },
  {
   "cell_type": "markdown",
   "id": "f9aae6bb-24ec-4790-9522-649c1146e8a3",
   "metadata": {
    "tags": []
   },
   "source": [
    "## 1. Data loading"
   ]
  },
  {
   "cell_type": "code",
   "execution_count": null,
   "id": "dea2c97f-a183-4661-92be-a998306fb78c",
   "metadata": {},
   "outputs": [],
   "source": [
    "# Loading of m1\n",
    "\n",
    "m1 = pd.read_csv(\"data/m1.csv\")\n",
    "m1 = m1.drop('Unnamed: 0', axis=1)"
   ]
  },
  {
   "cell_type": "code",
   "execution_count": null,
   "id": "c583b9cf-be0b-4825-86ff-71fc0a9a7e8f",
   "metadata": {},
   "outputs": [],
   "source": [
    "# Loading of m2\n",
    "\n",
    "m2 = pd.read_csv(\"Data/grid.csv\")"
   ]
  },
  {
   "cell_type": "markdown",
   "id": "ea9ff568-8d7c-49bb-b2e0-6fcfe0f39f1e",
   "metadata": {
    "tags": []
   },
   "source": [
    "## 2. Data merging"
   ]
  },
  {
   "cell_type": "code",
   "execution_count": null,
   "id": "9ff3a27a-9284-4076-bb4d-a66ecf1a1c2b",
   "metadata": {},
   "outputs": [],
   "source": [
    "# Setting of the time stamp type\n",
    "\n",
    "m1['pmeTimeStamp'] = pd.to_datetime(m1['pmeTimeStamp'])"
   ]
  },
  {
   "cell_type": "code",
   "execution_count": null,
   "id": "015ee56d-0d4b-4360-9e64-d3191cdada30",
   "metadata": {},
   "outputs": [],
   "source": [
    "# Setting of the geometry type\n",
    "\n",
    "m1['geometry'] = gpd.GeoSeries.from_wkt(m1['geometry'])\n",
    "m1 = gpd.GeoDataFrame(m1, geometry='geometry')"
   ]
  },
  {
   "cell_type": "code",
   "execution_count": null,
   "id": "68f0031b-b515-4303-8d80-e5f133937735",
   "metadata": {},
   "outputs": [],
   "source": [
    "# Setting of the geometry type\n",
    "\n",
    "m2['geometry'] = gpd.GeoSeries.from_wkt(m2['geometry'])\n",
    "m2 = gpd.GeoDataFrame(m2, geometry='geometry')"
   ]
  },
  {
   "cell_type": "code",
   "execution_count": null,
   "id": "3a1b7530-0a5f-4f86-b3f0-8e389bd3df7f",
   "metadata": {},
   "outputs": [],
   "source": [
    "# Setting the coordinate reference system\n",
    "\n",
    "m1.crs = 'EPSG:4326'"
   ]
  },
  {
   "cell_type": "code",
   "execution_count": null,
   "id": "46864b53-11e3-4af7-95d6-942a09a19c4d",
   "metadata": {},
   "outputs": [],
   "source": [
    "# Setting the coordinate reference system\n",
    "\n",
    "m1 = m1.to_crs(\"EPSG:28992\")"
   ]
  },
  {
   "cell_type": "code",
   "execution_count": null,
   "id": "e598d56f-7bcd-4cda-accf-7b1a133ea207",
   "metadata": {},
   "outputs": [],
   "source": [
    "# Joining of the two dataframes\n",
    "\n",
    "m1_m2 = gpd.sjoin(m1, m2, op='within')"
   ]
  },
  {
   "cell_type": "code",
   "execution_count": null,
   "id": "f60b1621-4513-4de3-b315-64128aed40f0",
   "metadata": {},
   "outputs": [],
   "source": [
    "m1_m2.info()"
   ]
  },
  {
   "cell_type": "code",
   "execution_count": null,
   "id": "dbcd5b72-b011-4fee-b26a-b9a06261e650",
   "metadata": {},
   "outputs": [],
   "source": [
    "calls = m1_m2.groupby(['n_grid']).size()"
   ]
  },
  {
   "cell_type": "code",
   "execution_count": null,
   "id": "b866fb71-ec43-494b-9c91-b5fea67c6252",
   "metadata": {},
   "outputs": [],
   "source": [
    "calls=calls.reset_index()"
   ]
  },
  {
   "cell_type": "code",
   "execution_count": null,
   "id": "3d910e00-baad-4853-9a3c-aae21253d7d0",
   "metadata": {},
   "outputs": [],
   "source": [
    "calls.columns = ['n_grid', 'n_calls']"
   ]
  },
  {
   "cell_type": "code",
   "execution_count": null,
   "id": "6f1c7ade-9587-451d-89ac-45c06c0bb7fa",
   "metadata": {},
   "outputs": [],
   "source": [
    "df = pd.merge(calls, m2, on=[\"n_grid\"])"
   ]
  },
  {
   "cell_type": "code",
   "execution_count": null,
   "id": "85bc23ad-3c13-4bd1-8e15-149ca79909cf",
   "metadata": {},
   "outputs": [],
   "source": [
    "df = gpd.GeoDataFrame(df, geometry=df['geometry'])"
   ]
  },
  {
   "cell_type": "code",
   "execution_count": null,
   "id": "004b673c-0579-41dd-9a12-fbeb71ccaa0f",
   "metadata": {
    "tags": []
   },
   "outputs": [],
   "source": [
    "df.plot(column='n_calls', legend=True, scheme='fisher_jenks')"
   ]
  },
  {
   "cell_type": "markdown",
   "id": "794216bd-424e-4f6a-81f4-fa6decd33276",
   "metadata": {
    "tags": []
   },
   "source": [
    "## 3. Data preparation"
   ]
  },
  {
   "cell_type": "code",
   "execution_count": null,
   "id": "04777edd-08d5-4f4a-a126-3daf7af05f8f",
   "metadata": {},
   "outputs": [],
   "source": [
    "df['n_calls'].hist(bins=4)"
   ]
  },
  {
   "cell_type": "code",
   "execution_count": null,
   "id": "97d3f077-79cf-4430-9a43-1f439121c3f0",
   "metadata": {},
   "outputs": [],
   "source": [
    "sns.pairplot(df)"
   ]
  },
  {
   "cell_type": "markdown",
   "id": "02f4ee1f-7d4d-48b5-93d4-4b4a0f383be6",
   "metadata": {},
   "source": [
    "The number of calls appear to have significant skewness"
   ]
  },
  {
   "cell_type": "code",
   "execution_count": null,
   "id": "ff7433bf-f831-4bda-8b5d-f2debe8515e5",
   "metadata": {},
   "outputs": [],
   "source": [
    "plt.boxplot(df['n_calls'])"
   ]
  },
  {
   "cell_type": "code",
   "execution_count": null,
   "id": "22ebcb3c-6fce-4196-afaf-c2307b060d82",
   "metadata": {},
   "outputs": [],
   "source": [
    "print(skew(df['n_calls'], bias=False))"
   ]
  },
  {
   "cell_type": "code",
   "execution_count": null,
   "id": "d4e28f50-f5b0-4522-b2f7-3cb386bda505",
   "metadata": {},
   "outputs": [],
   "source": [
    "sns.pairplot(df)"
   ]
  },
  {
   "cell_type": "markdown",
   "id": "2cb510c1-9c43-4246-a5b0-e2b605d4033c",
   "metadata": {},
   "source": [
    "As expected, the value is 3.9, to improve the model a transformation like log or sqrt can be performed on the feature and then the outliers can be taken into account.\n",
    "\n",
    "The max value is too distant from the distribution, it will be removed from the dataframe."
   ]
  },
  {
   "cell_type": "code",
   "execution_count": null,
   "id": "6b2dfa15-7a4a-4ae6-a149-ec1672426835",
   "metadata": {},
   "outputs": [],
   "source": [
    "df = df[(df.n_calls != df['n_calls'].max())]"
   ]
  },
  {
   "cell_type": "code",
   "execution_count": null,
   "id": "5962863a-dcbb-4ca1-ae70-fb49a484918b",
   "metadata": {},
   "outputs": [],
   "source": [
    "print(skew(df['n_calls'], bias=False))"
   ]
  },
  {
   "cell_type": "markdown",
   "id": "7b29be8c-c62f-486d-98e2-231d2389a5ce",
   "metadata": {},
   "source": [
    "Now the skewness already improved significantly.\n",
    "\n",
    "We can apply a square root transformation."
   ]
  },
  {
   "cell_type": "code",
   "execution_count": null,
   "id": "e660bc41-7391-413d-b17e-a86f86489fcf",
   "metadata": {},
   "outputs": [],
   "source": [
    "df['sqrt_calls'] = np.sqrt(df['n_calls'])"
   ]
  },
  {
   "cell_type": "code",
   "execution_count": null,
   "id": "6ddbba2b-5dc6-4b5e-950b-09a57b40ba93",
   "metadata": {},
   "outputs": [],
   "source": [
    "print(skew(df['sqrt_calls'], bias=False))"
   ]
  },
  {
   "cell_type": "code",
   "execution_count": null,
   "id": "97793090-433c-4e76-95b2-4b2a8e22a6ba",
   "metadata": {},
   "outputs": [],
   "source": [
    "df.to_csv('data/df2.csv', index=False)"
   ]
  },
  {
   "cell_type": "code",
   "execution_count": null,
   "id": "b8be748d-5c16-4ea1-a4b2-df1e976ece59",
   "metadata": {},
   "outputs": [],
   "source": [
    "df"
   ]
  },
  {
   "cell_type": "code",
   "execution_count": null,
   "id": "9b336721-cef8-4a9b-94f3-ae87b36b8de4",
   "metadata": {},
   "outputs": [],
   "source": [
    "# Transformation of number of calls with the sqrt function\n",
    "\n",
    "df['sqrt_calls'] = np.sqrt(df['n_calls'])"
   ]
  },
  {
   "cell_type": "code",
   "execution_count": null,
   "id": "e9699fa3-0f1b-4410-a489-a276eacd8f90",
   "metadata": {},
   "outputs": [],
   "source": [
    "# Standardization of the root of the number of ambulance calls\n",
    "\n",
    "df['sqrt_calls'] = (df['sqrt_calls'] - df['sqrt_calls'].mean())/df['sqrt_calls'].std()"
   ]
  },
  {
   "cell_type": "code",
   "execution_count": null,
   "id": "e8cb64c2-494c-4b62-ae49-56e88d34cd71",
   "metadata": {},
   "outputs": [],
   "source": [
    "plt.boxplot(df['sqrt_calls'])"
   ]
  },
  {
   "cell_type": "code",
   "execution_count": null,
   "id": "29e3d450-10db-4345-a551-2469a2422154",
   "metadata": {},
   "outputs": [],
   "source": [
    "print(skew(df['sqrt_calls'], bias=False))"
   ]
  },
  {
   "cell_type": "markdown",
   "id": "68cbadf4-e799-4871-b9a3-ea5a46efd2ff",
   "metadata": {},
   "source": [
    "The skewness is still significant, from the boxplot a significant outlier can be seen, it will be removed from the analysis."
   ]
  },
  {
   "cell_type": "code",
   "execution_count": null,
   "id": "59548bde-50de-49ab-8be2-329e388260db",
   "metadata": {},
   "outputs": [],
   "source": [
    "df = df[(df.sqrt_calls != df['sqrt_calls'].max())]"
   ]
  },
  {
   "cell_type": "code",
   "execution_count": null,
   "id": "91094279-8589-4819-8895-6a2e8c3f8f7f",
   "metadata": {},
   "outputs": [],
   "source": [
    "print(skew(df['sqrt_calls'], bias=False))"
   ]
  },
  {
   "cell_type": "markdown",
   "id": "f3434548-5ff1-4bdb-af78-a4428dadc51a",
   "metadata": {},
   "source": [
    "Now the skewness is under control."
   ]
  },
  {
   "cell_type": "markdown",
   "id": "277e9a97-82e8-4f5d-bb5f-0e28c8e51305",
   "metadata": {},
   "source": [
    "## 4. Merging of the neighbourhood data"
   ]
  },
  {
   "cell_type": "code",
   "execution_count": null,
   "id": "bf3535bd-0602-441f-97ee-262baa033f8d",
   "metadata": {},
   "outputs": [],
   "source": [
    "# Loading of the neighbourhood data\n",
    "\n",
    "neigh = gpd.read_file('data/neighborhoods_2018.json').to_crs('EPSG:4326')"
   ]
  },
  {
   "cell_type": "code",
   "execution_count": null,
   "id": "010f404a-62a7-419b-b730-c68fd8cdf6db",
   "metadata": {},
   "outputs": [],
   "source": [
    "neigh.crs = 'EPSG:28992'"
   ]
  },
  {
   "cell_type": "code",
   "execution_count": null,
   "id": "194bc4d4-2392-4b64-97c7-3e349fa115af",
   "metadata": {},
   "outputs": [],
   "source": [
    "# Selection of the relevant features\n",
    "\n",
    "neigh = neigh[['BU_CODE','geometry']]"
   ]
  },
  {
   "cell_type": "code",
   "execution_count": null,
   "id": "c31954d2-e91d-4f30-bf93-fdea08ccd211",
   "metadata": {},
   "outputs": [],
   "source": [
    "# Merging of the dataframes\n",
    "\n",
    "sjoin = gpd.sjoin(df, neigh, how='left', op='intersects')"
   ]
  },
  {
   "cell_type": "markdown",
   "id": "8464c866-5df2-40fb-b873-5906f42914fc",
   "metadata": {},
   "source": [
    "Since each cell in the grid can be partially overlapping different neighbourhoods, each cell will be assigned to the neighbourhood with the highest area overlap"
   ]
  },
  {
   "cell_type": "code",
   "execution_count": null,
   "id": "d3ac100f-26e7-4a21-9f9c-229cecda7616",
   "metadata": {},
   "outputs": [],
   "source": [
    "# Overlaying the dataframes\n",
    "\n",
    "merged = gpd.overlay(df, neigh, how='intersection')"
   ]
  },
  {
   "cell_type": "code",
   "execution_count": null,
   "id": "15b83ecb-eb6a-4ce6-ad18-f7064d0f0e91",
   "metadata": {},
   "outputs": [],
   "source": [
    "# Calculating the overlaying area\n",
    "\n",
    "merged['area'] = merged.geometry.area"
   ]
  },
  {
   "cell_type": "code",
   "execution_count": null,
   "id": "2dee271c-41f8-4f1b-83a7-2eb74df1aaef",
   "metadata": {},
   "outputs": [],
   "source": [
    "# Selecting the neighbourhood with the highest area overlap\n",
    "\n",
    "merged = merged.sort_values(['n_grid', 'area'],ascending=False).groupby(['n_grid']).first().reset_index()"
   ]
  },
  {
   "cell_type": "code",
   "execution_count": null,
   "id": "d380b2bc-d069-49e1-a7fb-32c23e980710",
   "metadata": {},
   "outputs": [],
   "source": [
    "# Plot of the cells assigned to each neighbourhood\n",
    "\n",
    "fig, ax = plt.subplots(figsize=(10, 10))\n",
    "neigh.plot(ax=ax, color='none', edgecolor='black')\n",
    "merged.plot(ax=ax, color='none', edgecolor='r')"
   ]
  },
  {
   "cell_type": "code",
   "execution_count": null,
   "id": "28ebc34e-17b4-4715-96bc-cae38bce9e93",
   "metadata": {},
   "outputs": [],
   "source": [
    "merged.to_csv('data/df.csv', index = False)"
   ]
  }
 ],
 "metadata": {
  "kernelspec": {
   "display_name": "Python 3 (ipykernel)",
   "language": "python",
   "name": "python3"
  },
  "language_info": {
   "codemirror_mode": {
    "name": "ipython",
    "version": 3
   },
   "file_extension": ".py",
   "mimetype": "text/x-python",
   "name": "python",
   "nbconvert_exporter": "python",
   "pygments_lexer": "ipython3",
   "version": "3.9.7"
  }
 },
 "nbformat": 4,
 "nbformat_minor": 5
}
