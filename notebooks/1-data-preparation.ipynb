{
 "cells": [
  {
   "cell_type": "markdown",
   "id": "494bce0a-0b0c-4b7b-9551-2126e95937b4",
   "metadata": {
    "tags": []
   },
   "source": [
    "# Step 1: Data preparation using sqrt and z-score\n",
    "\n",
    "**Goal of the step:** Prepare the data for exploration and modeling.\n",
    "\n",
    "**Step overview:**\n",
    "1) Loading of the dataframe\n",
    "2) Translation of the data from dutch to english\n",
    "3) Remotion of unavailable data\n",
    "4) Preparation of the data\n",
    "\n",
    "Description of the features:\n",
    "\n",
    "- n_grid: univocal code for each cell in the grid\n",
    "\n",
    "- pop: number of inhabitants in the cell on the 1st January 2018\n",
    "\n",
    "- per_for: percentage of residents of whom at least one parent was born abroad in one of the countries of Africa, Latin America or Asia (excluding Indonesia and Japan) or in Turkey\n",
    "\n",
    "- dist_road: average distance of all inhabitants in an area to the nearest entrance to a national or provincial road, calculated over the road\n",
    "\n",
    "- unemp: residents who receive unemployment benefits, a social assistance or assistance-related benefit or an occupational disability benefit. This concerns benefits to residents up to the state pension age. A person who receives several types of benefits is counted once.\n",
    "\n",
    "- p0_14: percentage of inhabitants under 15 years old\n",
    "\n",
    "- p65_PL: percentage of inhabitants aged 65 or more\n",
    "\n",
    "- med_inc: standardized median  income, classified as: Low, Mid, High"
   ]
  },
  {
   "cell_type": "code",
   "execution_count": null,
   "id": "b76a8c61-208d-41af-a793-5275a2f59b0f",
   "metadata": {
    "tags": []
   },
   "outputs": [],
   "source": [
    "import pandas as pd\n",
    "import geopandas\n",
    "import matplotlib.pyplot as plt\n",
    "import numpy as np\n",
    "import math\n",
    "import seaborn as sns\n",
    "from scipy.stats import skew"
   ]
  },
  {
   "cell_type": "markdown",
   "id": "ca6d95b7-fafe-4892-b917-3c382040c820",
   "metadata": {
    "tags": []
   },
   "source": [
    "## 1. Data loading"
   ]
  },
  {
   "cell_type": "code",
   "execution_count": null,
   "id": "f641444b-3af9-46f7-ba31-c21641d3e073",
   "metadata": {},
   "outputs": [],
   "source": [
    "# Data loading\n",
    "\n",
    "df = geopandas.read_file(\"data/500x500.json\")"
   ]
  },
  {
   "cell_type": "code",
   "execution_count": null,
   "id": "d6aa0d76-58b3-4ccd-b6eb-bcc737fe5c49",
   "metadata": {},
   "outputs": [],
   "source": [
    "# Subset of the relevant features\n",
    "\n",
    "df = df[['c28992r500', 'INWONER', 'P_NW_MIG_A', \"AFS_OPRIT\", \"UITKMINAOW\", \"INW_014\", 'INW_1524', 'INW_2544', 'INW_4564', 'INW_65PL', 'M_INKHH', 'geometry']]"
   ]
  },
  {
   "cell_type": "markdown",
   "id": "431ff28c-3f16-4e20-aa9d-aea3df31f92c",
   "metadata": {
    "tags": []
   },
   "source": [
    "## 2. Translation from dutch to english"
   ]
  },
  {
   "cell_type": "code",
   "execution_count": null,
   "id": "5b53f63b-449f-481a-8d1e-0b278e5e4c6d",
   "metadata": {},
   "outputs": [],
   "source": [
    "# Making the columns english readable\n",
    "\n",
    "df.columns = ['n_grid', 'pop',  'per_for', 'dist_road',\n",
    "       'unemp','p0_14',   'p15_24',   'p25_44',   'p45_64',\n",
    "         'p65_PL',    'med_inc',   'geometry']"
   ]
  },
  {
   "cell_type": "code",
   "execution_count": null,
   "id": "29d4d6c5-403a-424f-9c8c-bb15f9a9a35c",
   "metadata": {},
   "outputs": [],
   "source": [
    "# Making the median income data english readable\n",
    "\n",
    "df['med_inc'] = df['med_inc'].replace(['onclassificeerbaar','00-20 laag','00-40 laag tot onder midden','20-40 onder midden','20-60 onder midden tot midden','40-60 midden','40-80 midden tot boven midden', '60-80 boven midden','60-100 boven midden tot hoog','80-100 hoog'],['unclassifiable','00-20 low','00-40 low to below mid','20-40 below center','20-60 bottom mid to mid','40-60 mid','40-80 mid to top mid','60-80 above center','60-100 top mid to high','80-100 high'])"
   ]
  },
  {
   "cell_type": "markdown",
   "id": "44e17aca-5bb1-441d-a875-a18fc6ede5d3",
   "metadata": {
    "tags": []
   },
   "source": [
    "## 3. Remotion of unavailable data\n",
    "\n",
    "All the rows with missing information about population, median income and percentage of foreigners are removed"
   ]
  },
  {
   "cell_type": "code",
   "execution_count": null,
   "id": "a9f1c4d8-270f-4a6a-b020-278e7dfac678",
   "metadata": {},
   "outputs": [],
   "source": [
    "# Remotion of rows with no data about population's age\n",
    "\n",
    "df = df[(df.p0_14 != -99997) & (df.p15_24 != -99997) & (df.p25_44 != -99997) & (df.p45_64 != -99997) & (df.p65_PL != -99997)]"
   ]
  },
  {
   "cell_type": "code",
   "execution_count": null,
   "id": "968eba08-fe46-428c-acd8-65651f0fb0f0",
   "metadata": {},
   "outputs": [],
   "source": [
    "# Remotion of rows with no data about the percentage of foreigners\n",
    "\n",
    "df = df[(df.per_for != -99997)]"
   ]
  },
  {
   "cell_type": "code",
   "execution_count": null,
   "id": "08f81bb8-5c62-4286-b7e4-ca982adf7b9d",
   "metadata": {},
   "outputs": [],
   "source": [
    "# Remotion of rows with no data about median income\n",
    "\n",
    "df = df[df.med_inc != 'onclassificeerbaar']"
   ]
  },
  {
   "cell_type": "code",
   "execution_count": null,
   "id": "938f1e2e-d597-4d8d-bd67-9918dbed2199",
   "metadata": {},
   "outputs": [],
   "source": [
    "# Remotion of rows with no data about unemployment\n",
    "\n",
    "df = df[df.unemp != -99997]"
   ]
  },
  {
   "cell_type": "markdown",
   "id": "96629827-2166-4571-8876-1f5374775db0",
   "metadata": {},
   "source": [
    "## 4. Preparation of data"
   ]
  },
  {
   "cell_type": "markdown",
   "id": "3eff8f9a-0a76-4e95-a935-ba9faffd680b",
   "metadata": {
    "tags": []
   },
   "source": [
    "### Skewness calculation"
   ]
  },
  {
   "cell_type": "code",
   "execution_count": null,
   "id": "12e0530f-1234-4671-a925-9a1ccedb016a",
   "metadata": {},
   "outputs": [],
   "source": [
    "# Plot of the features to identify skewness and correlation in the distributions\n",
    "\n",
    "sns.pairplot(df)"
   ]
  },
  {
   "cell_type": "code",
   "execution_count": null,
   "id": "b52538ff-79f2-4e53-80e5-67b8deab420c",
   "metadata": {},
   "outputs": [],
   "source": [
    "# Skewness test\n",
    "\n",
    "print(skew(df['pop'], bias=False))\n",
    "print(skew(df['per_for'], bias=False))\n",
    "print(skew(df['dist_road'], bias=False))\n",
    "print(skew(df['unemp'], bias=False))\n",
    "print(skew(df['p0_14'], bias=False))\n",
    "print(skew(df['p65_PL'], bias=False))"
   ]
  },
  {
   "cell_type": "markdown",
   "id": "f3f60611-9526-4184-87aa-76d72a3d3ba2",
   "metadata": {},
   "source": [
    "All the variables have significant skewness to the right, to handle this a sqrt transformation can be performed \n",
    "\n",
    "*Rule of thumb +-0.8 is an acceptable value of skewness*\n",
    "\n",
    "A sqrt transformation instead of a log transformation has been performed because some data have value equal to zero."
   ]
  },
  {
   "cell_type": "markdown",
   "id": "269aad6c-d2a8-46b6-b26c-5c0492868706",
   "metadata": {
    "tags": []
   },
   "source": [
    "### Early data elaboration and square root transformation"
   ]
  },
  {
   "cell_type": "code",
   "execution_count": null,
   "id": "d0ff4ab7-a339-4071-a464-3e85825e5810",
   "metadata": {},
   "outputs": [],
   "source": [
    "# Grouping of income categories\n",
    "\n",
    "df.loc[df.med_inc == '00-20 low', 'med_inc'] = \"low\"\n",
    "df.loc[df.med_inc == '00-40 low to below mid', 'med_inc'] = \"low\"\n",
    "df.loc[df.med_inc == '20-40 below center', 'med_inc'] = \"low\"\n",
    "\n",
    "df.loc[df.med_inc == '20-60 bottom mid to mid', 'med_inc'] = \"mid\"\n",
    "df.loc[df.med_inc == '40-60 mid', 'med_inc'] = \"mid\"\n",
    "df.loc[df.med_inc == '40-80 mid to top mid', 'med_inc'] = \"mid\"\n",
    "\n",
    "df.loc[df.med_inc == '60-80 above center', 'med_inc'] = \"high\"\n",
    "df.loc[df.med_inc == '60-100 top mid to high', 'med_inc'] = \"high\"\n",
    "df.loc[df.med_inc == '80-100 high', 'med_inc'] = \"high\""
   ]
  },
  {
   "cell_type": "code",
   "execution_count": null,
   "id": "176acc06-ddfd-4ea9-afa2-2e50b585e6cd",
   "metadata": {},
   "outputs": [],
   "source": [
    "df2 = df.copy()"
   ]
  },
  {
   "cell_type": "code",
   "execution_count": null,
   "id": "0300dca1-7eb5-4a19-8afc-e86aee366797",
   "metadata": {},
   "outputs": [],
   "source": [
    "# Turn the unemployment into a percentage of the population\n",
    "\n",
    "df['unemp'] = df2['unemp']/df2['pop']"
   ]
  },
  {
   "cell_type": "code",
   "execution_count": null,
   "id": "9ed92a4f-6609-4300-a52d-e4bd5f670e29",
   "metadata": {},
   "outputs": [],
   "source": [
    "# Calculate the skewness for the unemployment percentage\n",
    "\n",
    "print(skew(df['unemp'], bias=False))"
   ]
  },
  {
   "cell_type": "markdown",
   "id": "a2096503-fc3d-41fc-b5a6-b0e2bc897a4a",
   "metadata": {},
   "source": [
    "The skewness is very high, a sqrt transformation will be performed"
   ]
  },
  {
   "cell_type": "code",
   "execution_count": null,
   "id": "f962d7f7-648b-487d-b070-5eb4afb29a32",
   "metadata": {},
   "outputs": [],
   "source": [
    "# Transformation of the unemployment percentage with the sqrt function\n",
    "\n",
    "df['unemp'] = np.sqrt(df['unemp'])"
   ]
  },
  {
   "cell_type": "code",
   "execution_count": null,
   "id": "86bbf06e-1100-4eba-950c-f936fe04b8fc",
   "metadata": {},
   "outputs": [],
   "source": [
    "plt.boxplot(df['unemp'])"
   ]
  },
  {
   "cell_type": "code",
   "execution_count": null,
   "id": "c670e464-4541-4986-bc2c-e1edbbccf187",
   "metadata": {},
   "outputs": [],
   "source": [
    "# Calculate the skewness for the unemployment percentage\n",
    "\n",
    "print(skew(df['unemp'], bias=False))"
   ]
  },
  {
   "cell_type": "markdown",
   "id": "b1856c8a-47e7-4e9c-bfa0-d82e542869de",
   "metadata": {},
   "source": [
    "There is still an important outlier that brings the skewness outside the acceptance value, it will be removed from the analysis"
   ]
  },
  {
   "cell_type": "code",
   "execution_count": null,
   "id": "3308f48c-ff74-4c24-af30-1b6c1933692e",
   "metadata": {},
   "outputs": [],
   "source": [
    "df = df[(df.unemp != df['unemp'].max())]"
   ]
  },
  {
   "cell_type": "code",
   "execution_count": null,
   "id": "f13ec0b5-d201-4dcc-b1b0-a21ff864944d",
   "metadata": {},
   "outputs": [],
   "source": [
    "# Calculate the skewness for the unemployment percentage\n",
    "\n",
    "print(skew(df['unemp'], bias=False))"
   ]
  },
  {
   "cell_type": "markdown",
   "id": "443b96ed-4f7b-451a-8483-36e160557419",
   "metadata": {},
   "source": [
    "Now the skewness is acceptable"
   ]
  },
  {
   "cell_type": "code",
   "execution_count": null,
   "id": "6621ed4e-5d47-4cb5-aafe-14c04bddfac0",
   "metadata": {
    "tags": []
   },
   "outputs": [],
   "source": [
    "df['dist_road'] = np.sqrt(df['dist_road'])"
   ]
  },
  {
   "cell_type": "code",
   "execution_count": null,
   "id": "f2240c18-637d-4bb7-8d04-e03e3284d93b",
   "metadata": {},
   "outputs": [],
   "source": [
    "# Calculate the skewness for the distance from the closest provincial/national road\n",
    "\n",
    "print(skew(df['dist_road'], bias=False))"
   ]
  },
  {
   "cell_type": "markdown",
   "id": "4b7ac2ee-f814-4bdb-9831-5e474bb76745",
   "metadata": {},
   "source": [
    "The value is acceptable"
   ]
  },
  {
   "cell_type": "code",
   "execution_count": null,
   "id": "9e7bb5f3-a986-430a-ad62-1df1ca275637",
   "metadata": {},
   "outputs": [],
   "source": [
    "df['pop'] = np.sqrt(df['pop'])"
   ]
  },
  {
   "cell_type": "code",
   "execution_count": null,
   "id": "35d0374c-e9fc-4032-90eb-7be09ef4e576",
   "metadata": {},
   "outputs": [],
   "source": [
    "# Calculate the skewness for the population\n",
    "\n",
    "print(skew(df['pop'], bias=False))"
   ]
  },
  {
   "cell_type": "markdown",
   "id": "151751b9-d961-4a88-b77a-903ff96e3e1a",
   "metadata": {},
   "source": [
    "The value is acceptable"
   ]
  },
  {
   "cell_type": "code",
   "execution_count": null,
   "id": "c2ed6500-13b8-4a06-848c-200d050f8f78",
   "metadata": {},
   "outputs": [],
   "source": [
    "# Transformation of the age data into percentages\n",
    "\n",
    "df['p0_14'] = 100 * df2['p0_14']/(df2['p0_14']+df2['p15_24']+df2['p25_44']+df2['p45_64']+df2['p65_PL'])\n",
    "df['p15_24'] = 100 * df2['p15_24']/(df2['p0_14']+df2['p15_24']+df2['p25_44']+df2['p45_64']+df2['p65_PL'])\n",
    "df['p25_44'] = 100 * df2['p25_44']/(df2['p0_14']+df2['p15_24']+df2['p25_44']+df2['p45_64']+df2['p65_PL'])\n",
    "df['p45_64'] = 100 * df2['p45_64']/(df2['p0_14']+df2['p15_24']+df2['p25_44']+df2['p45_64']+df2['p65_PL'])\n",
    "df['p65_PL'] = 100 * df2['p65_PL']/(df2['p0_14']+df2['p15_24']+df2['p25_44']+df2['p45_64']+df2['p65_PL'])"
   ]
  },
  {
   "cell_type": "code",
   "execution_count": null,
   "id": "97f4c5e4-ad16-4ced-8d34-71accd5c563e",
   "metadata": {},
   "outputs": [],
   "source": [
    "# Plot of the distributions to identify skewness and correlation\n",
    "\n",
    "sns.pairplot(df)"
   ]
  },
  {
   "cell_type": "code",
   "execution_count": null,
   "id": "67d45e10-5d46-452f-b559-c4f4fc477c6e",
   "metadata": {},
   "outputs": [],
   "source": [
    "print(skew(df['p0_14'], bias=False))\n",
    "print(skew(df['p65_PL'], bias=False))"
   ]
  },
  {
   "cell_type": "code",
   "execution_count": null,
   "id": "78109b65-422d-4233-9b1e-cf9292c5dbb1",
   "metadata": {},
   "outputs": [],
   "source": [
    "plt.boxplot(df['p65_PL'])"
   ]
  },
  {
   "cell_type": "markdown",
   "id": "e0601d9f-39e0-4bc2-a62d-8f1dc4d54412",
   "metadata": {},
   "source": [
    "After the percentage transformation, the skewness value for the population between 0 and 14 years old is in the acceptance range, while the population between 65 and older has still significant skewness.\n",
    "\n",
    "From the boxplot, we can see that there are several outliers that influence the skewness of the distribution, these values will be pushed to the 0.9 quantile of the distribution."
   ]
  },
  {
   "cell_type": "code",
   "execution_count": null,
   "id": "194b58d6-9aa1-4927-ad68-61e45167d79d",
   "metadata": {},
   "outputs": [],
   "source": [
    "# Outliers management percentage of population 65 years old and older\n",
    "\n",
    "p65pll = (df['p65_PL'].quantile(0.10))\n",
    "p65plu = (df['p65_PL'].quantile(0.90))"
   ]
  },
  {
   "cell_type": "code",
   "execution_count": null,
   "id": "8d43f428-0c09-452f-a21c-32a36217a286",
   "metadata": {},
   "outputs": [],
   "source": [
    "# Adjusting outliers for the percentage of population 65 years old and older\n",
    "\n",
    "df[\"p65_PL\"] = np.where(df[\"p65_PL\"] < p65pll, p65pll, df['p65_PL'])\n",
    "df[\"p65_PL\"] = np.where(df[\"p65_PL\"] > p65plu, p65plu, df['p65_PL'])"
   ]
  },
  {
   "cell_type": "code",
   "execution_count": null,
   "id": "a01aae7c-ef72-486f-9912-b3b76bb6888a",
   "metadata": {},
   "outputs": [],
   "source": [
    "print(skew(df['p65_PL'], bias=False))"
   ]
  },
  {
   "cell_type": "markdown",
   "id": "03abff5d-c4c6-4897-a4e3-0ff931383544",
   "metadata": {},
   "source": [
    "Now the skewness is in the acceptance range, the level of skewness is down from 1.08 to 0.58"
   ]
  },
  {
   "cell_type": "code",
   "execution_count": null,
   "id": "37bd67bd-d0ba-44f6-91e9-dcfa27f75df4",
   "metadata": {},
   "outputs": [],
   "source": [
    "df['per_for'] = np.sqrt(df['per_for'])"
   ]
  },
  {
   "cell_type": "code",
   "execution_count": null,
   "id": "9f4a0b30-e3ae-4ebc-b414-954fb08b0e15",
   "metadata": {},
   "outputs": [],
   "source": [
    "print(skew(df['per_for'], bias=False))"
   ]
  },
  {
   "cell_type": "markdown",
   "id": "06b77397-46de-4fc0-9ff4-044427b74ae9",
   "metadata": {},
   "source": [
    "The skewness for the percentage of foreigners is reduced from 0.97 to 0.26, now acceptable"
   ]
  },
  {
   "cell_type": "markdown",
   "id": "f05c644b-a062-4b7d-b055-cf34cca5d943",
   "metadata": {
    "tags": []
   },
   "source": [
    "### Z-Score transformation"
   ]
  },
  {
   "cell_type": "code",
   "execution_count": null,
   "id": "72e880cb-c6d6-4832-a0d1-c1f40496a939",
   "metadata": {},
   "outputs": [],
   "source": [
    "# Standardization of the population data\n",
    "\n",
    "df['pop'] = (df['pop'] - df['pop'].mean())/df['pop'].std()"
   ]
  },
  {
   "cell_type": "code",
   "execution_count": null,
   "id": "73549856-60ae-4025-a13c-4c9dead6f5b3",
   "metadata": {},
   "outputs": [],
   "source": [
    "# Standardization of the distance from the closest provincial road data\n",
    "\n",
    "df['dist_road'] = (df['dist_road'] - df['dist_road'].mean())/df['dist_road'].std()"
   ]
  },
  {
   "cell_type": "code",
   "execution_count": null,
   "id": "c302bc6c-5d24-4fe7-b47c-3b457620ed3c",
   "metadata": {},
   "outputs": [],
   "source": [
    "# Standardization of unemployment data\n",
    "\n",
    "df['unemp'] = (df['unemp'] - df['unemp'].mean())/df['unemp'].std()"
   ]
  },
  {
   "cell_type": "code",
   "execution_count": null,
   "id": "9f31837a-d6ce-414a-901b-60e2043dcdb8",
   "metadata": {},
   "outputs": [],
   "source": [
    "# Standardization of the age percentages\n",
    "\n",
    "df['p0_14'] = (df['p0_14'] - df['p0_14'].mean())/df['p0_14'].std()\n",
    "df['p65_PL'] = (df['p65_PL'] - df['p65_PL'].mean())/df['p65_PL'].std()"
   ]
  },
  {
   "cell_type": "code",
   "execution_count": null,
   "id": "639d9c2b-79d8-43c1-a76c-2fe6c509a400",
   "metadata": {},
   "outputs": [],
   "source": [
    "df[['pop', 'per_for', 'dist_road', 'unemp', 'p0_14', 'p65_PL']].boxplot(figsize=(10,4))"
   ]
  },
  {
   "cell_type": "code",
   "execution_count": null,
   "id": "652d63f9-accd-49a6-9470-eb27795cb71c",
   "metadata": {},
   "outputs": [],
   "source": [
    "# Outliers management for the percentage of the population aged 14 or less\n",
    "\n",
    "p014l = (df['p0_14'].quantile(0.10))\n",
    "p014u = (df['p0_14'].quantile(0.90))"
   ]
  },
  {
   "cell_type": "code",
   "execution_count": null,
   "id": "241184b7-b2d6-471d-bb3a-e6e91f24c7a7",
   "metadata": {},
   "outputs": [],
   "source": [
    "# Adjusting the outliers\n",
    "\n",
    "df[\"p0_14\"] = np.where(df[\"p0_14\"] < p014l, p014l, df['p0_14'])\n",
    "df[\"p0_14\"] = np.where(df[\"p0_14\"] > p014u, p014u, df['p0_14'])"
   ]
  },
  {
   "cell_type": "code",
   "execution_count": null,
   "id": "ec2e6482-881c-42c1-b6dc-0326d6800470",
   "metadata": {},
   "outputs": [],
   "source": [
    "df.to_csv('data/grid.csv', index = False)"
   ]
  }
 ],
 "metadata": {
  "kernelspec": {
   "display_name": "Python 3 (ipykernel)",
   "language": "python",
   "name": "python3"
  },
  "language_info": {
   "codemirror_mode": {
    "name": "ipython",
    "version": 3
   },
   "file_extension": ".py",
   "mimetype": "text/x-python",
   "name": "python",
   "nbconvert_exporter": "python",
   "pygments_lexer": "ipython3",
   "version": "3.9.7"
  }
 },
 "nbformat": 4,
 "nbformat_minor": 5
}
