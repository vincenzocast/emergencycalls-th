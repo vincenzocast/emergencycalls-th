{
 "cells": [
  {
   "cell_type": "markdown",
   "id": "3e545daa-1594-4f99-b8ff-ad2038c098d9",
   "metadata": {},
   "source": [
    "# Step 3: Performing a linear regression to predict ambulance calls\n",
    "\n",
    "**Goal of the step:** Creating a statistical model that includes both geographical information and demographic data to predict ambulance calls.\n",
    "\n",
    "**Step overview:**\n",
    "1. Loading of the dataframe\n",
    "2. Fitting of the first model\n",
    "3. Inclusion of the geographical feature\n",
    "4. Results"
   ]
  },
  {
   "cell_type": "code",
   "execution_count": null,
   "id": "b9f7a585-ee17-4c7d-97fd-bd9838accc9a",
   "metadata": {
    "tags": []
   },
   "outputs": [],
   "source": [
    "import pandas as pd\n",
    "import osmnx\n",
    "import geopandas as gpd\n",
    "import rioxarray\n",
    "import xarray\n",
    "import datashader\n",
    "import contextily as cx\n",
    "from shapely import geometry\n",
    "from shapely import wkt\n",
    "import matplotlib.pyplot as plt\n",
    "import seaborn\n",
    "from pysal.viz import splot\n",
    "from splot.esda import plot_moran\n",
    "import contextily\n",
    "from pysal.explore import esda\n",
    "from pysal.lib import weights\n",
    "from numpy.random import seed\n",
    "import numpy as np\n",
    "import os\n",
    "import statsmodels.formula.api as sm\n",
    "from pysal.model import spreg\n",
    "import statsmodels.formula.api as sm"
   ]
  },
  {
   "cell_type": "markdown",
   "id": "bb7db05b-6038-41a7-b3d5-6aa5072bc052",
   "metadata": {},
   "source": [
    "## 1. Loading of the dataframe"
   ]
  },
  {
   "cell_type": "code",
   "execution_count": null,
   "id": "9fa6189e-8cf9-4154-91e7-edb79cda4404",
   "metadata": {},
   "outputs": [],
   "source": [
    "df = pd.read_csv(\"data/df.csv\")"
   ]
  },
  {
   "cell_type": "code",
   "execution_count": null,
   "id": "a30800b1-e41c-4a71-b0ed-6030050e2cb7",
   "metadata": {},
   "outputs": [],
   "source": [
    "# Setting of the geometry type\n",
    "\n",
    "df['geometry'] = gpd.GeoSeries.from_wkt(df['geometry'])\n",
    "df = gpd.GeoDataFrame(df, geometry='geometry')"
   ]
  },
  {
   "cell_type": "markdown",
   "id": "e5ab4a52-e0f1-4c64-a289-1ba7971bac4a",
   "metadata": {},
   "source": [
    "## 2. Fitting the first linear model"
   ]
  },
  {
   "cell_type": "code",
   "execution_count": null,
   "id": "24fb89b8-1d7c-453a-93b2-e03186dae2f9",
   "metadata": {},
   "outputs": [],
   "source": [
    "# Fit OLS model\n",
    "m1 = spreg.OLS(\n",
    "    # Dependent variable\n",
    "    df[['sqrt_calls']].values, \n",
    "    # Independent variables\n",
    "    df[['pop', 'per_for', 'dist_road',\n",
    "       'unemp','p0_14',\n",
    "         'p65_PL']].values,\n",
    "    # Dependent variable name\n",
    "    name_y='n_calls', \n",
    "    # Independent variable name\n",
    "    name_x=['pop', 'per_for', 'dist_road',\n",
    "       'unemp','p0_14',\n",
    "         'p65_PL']\n",
    ")"
   ]
  },
  {
   "cell_type": "code",
   "execution_count": null,
   "id": "8a4811f7-8642-4ac9-9e28-a13729377b54",
   "metadata": {
    "tags": []
   },
   "outputs": [],
   "source": [
    "print(m1.summary)"
   ]
  },
  {
   "cell_type": "markdown",
   "id": "76ca75f5-00e4-49ea-8b15-ccd117e1cf9d",
   "metadata": {},
   "source": [
    "In this first model, population, percentage of foreigners, distance from the closest provincial/national road, percentage of unemployed, percentage of inhabitants who are less than 15 years old, and percentage of inhabitants who are more than 65 years old are used to predict the square root of the number of ambulance calls.\n",
    ",,\n",
    "Without considering the geographical feature and the median income, the constant term and all the variables used *(apart from unemployment)* appear to be statistically significant *(p-value < 5%)* in predicting ambulance calls.\n",
    "\n",
    "The adjusted R squared of the model is equal to 57%, meaning that the independent variables used explain more than half the variance of emergency calls.\n",
    "\n",
    "The level of multicollinearity among the independent variables is 10, considered a limit value for the acceptance of the model.\n",
    "\n",
    "This model shows that population density, percentage of foreigners, distance from the closest provincial/national road, and percentage of inhabitants who are 65 years old or more are positively correlated with the number of ambulance calls.\n",
    "\n",
    "On the other end, an increasing percentage of inhabitants who are younger than 15 years old is shown to be negatively correlated with the number of emergency calls."
   ]
  },
  {
   "cell_type": "code",
   "execution_count": null,
   "id": "6c0f90a2",
   "metadata": {},
   "outputs": [],
   "source": [
    "knn = weights.KNN.from_dataframe(df, k=1)"
   ]
  },
  {
   "cell_type": "code",
   "execution_count": null,
   "id": "d2d18ff8",
   "metadata": {},
   "outputs": [],
   "source": [
    "lag_residual = weights.spatial_lag.lag_spatial(knn, m1.u)\n",
    "ax = seaborn.regplot(\n",
    "    m1.u.flatten(), \n",
    "    lag_residual.flatten(), \n",
    "    line_kws=dict(color='orangered'),\n",
    "    ci=None\n",
    ")\n",
    "ax.set_xlabel('Model Residuals - $u$')\n",
    "ax.set_ylabel('Spatial Lag of Model Residuals - $W u$');"
   ]
  },
  {
   "cell_type": "markdown",
   "id": "49198478-91d1-4bd7-a8bf-411277cf4116",
   "metadata": {},
   "source": [
    "By plotting the prediction error of a cell, and the prediction error of the closest other cell, we see that prediction errors tend to cluster, meaning that if the model overpredicts the number of calls in one cell, it will likely overpredict also in the closest cell.\n",
    "\n",
    "This behaviour of the residuals is critical, as it expresses an underlying geographical relationship that if considered in the model can improve its prediction power."
   ]
  },
  {
   "cell_type": "markdown",
   "id": "99b99678-6b6e-440c-a8bf-d6a9688276b6",
   "metadata": {},
   "source": [
    "## 3. Including the geographical feature"
   ]
  },
  {
   "cell_type": "markdown",
   "id": "c3587b91-7223-40a8-94a0-f59d7d9b0ccf",
   "metadata": {},
   "source": [
    "Now a new linear model will be created to explicitely include geospatial information in the model.\n",
    "\n",
    "Since the model is missing some explanatory variables (only explains 57% of the variance), it might miss some important characteristics that influence the number of ambulance calls.\n",
    "Some of these characteristics are likely to vary over space, therefore by including the neighbourhoods as categorical variables, the model will be able to control some of these unobserved features."
   ]
  },
  {
   "cell_type": "code",
   "execution_count": null,
   "id": "2854c4a5-2ed5-4b6e-ac5b-b047cc06d9e5",
   "metadata": {},
   "outputs": [],
   "source": [
    "# New regression model with neighbourhood and median income as categorical variables\n",
    "\n",
    "f = 'sqrt_calls ~ ' + ' + '.join(['pop', 'per_for', 'dist_road',\n",
    "       'unemp','p0_14',\n",
    "         'p65_PL'])  +  ' + BU_CODE - 1' + ' + med_inc - 1' \n",
    "print(f)"
   ]
  },
  {
   "cell_type": "code",
   "execution_count": null,
   "id": "f1048720-7a85-455e-814b-42f761b0d9e1",
   "metadata": {},
   "outputs": [],
   "source": [
    "m2 = sm.ols(f, data=df).fit()"
   ]
  },
  {
   "cell_type": "code",
   "execution_count": null,
   "id": "1d80a0b5-a2ab-40b4-8c0a-68f74bca6f6e",
   "metadata": {},
   "outputs": [],
   "source": [
    "results_as_html = m2.summary2().tables[1]"
   ]
  },
  {
   "cell_type": "code",
   "execution_count": null,
   "id": "185709ae-d215-40b7-9ec6-1a629db10f5f",
   "metadata": {},
   "outputs": [],
   "source": [
    "results_as_html "
   ]
  },
  {
   "cell_type": "markdown",
   "id": "2b2f69d8-ecfe-4977-95d4-67338baa9558",
   "metadata": {},
   "source": [
    "## 4. Results"
   ]
  },
  {
   "cell_type": "code",
   "execution_count": null,
   "id": "abbf5e9f-456a-4201-93d2-8e92297df8f9",
   "metadata": {},
   "outputs": [],
   "source": [
    "# Subset of the features only containing the statistically significant attributes\n",
    "\n",
    "results_as_html[results_as_html['P>|t|']<=0.05]"
   ]
  },
  {
   "cell_type": "code",
   "execution_count": null,
   "id": "3f051182-25de-4dac-bfcb-d46d5daadfc8",
   "metadata": {},
   "outputs": [],
   "source": [
    "m2.summary2()"
   ]
  },
  {
   "cell_type": "markdown",
   "id": "d4fbfbe3-9c30-45dd-ad2e-4b27de43dca8",
   "metadata": {},
   "source": [
    "The prediction power of the model increased, with the adjusted R squared up to 67.3% and R squared up to 80%.\n",
    "\n",
    "After including these two categorical variables, the distance from the closest provincial/national road is no longer significant, this could be because in the previous model this variable was also explaining some geographical characteristics (e.g. how people cluster in a city based on their income level) that are now being controlled by the new model, and the distance from provincia/national roads itselft does not exlain the number of ambulance calls.\n",
    "The inclusion of new variables had the opposite effect on the significante of unemployment, which is now down to 18% from 47%, this could be explained with the same reasoning presented above, but this time the effect itself of unemployment is significant at a significance level of 20%.\n",
    "\n",
    "From these results, it appears that emergency calls have indeed a geographical component that is not captured by the demographic features used in the model.\n",
    "\n",
    "When including categorical variables, the p-value specifies wether the coefficient estimated for a model is significantly different from the one of the reference level.\n",
    "This model points out that for some neighborhoods the coefficient is not significantly different from the one of the reference level, while for other neighbourhoods it is significantly different *(reference level + coefficient of the categorical variable)*.\n",
    "At the same time the levels of median income are not statistically significant, indicating that the different levels of income do not influence the number of ambulance calls.\n",
    "At the same time, it is important to note that a low median income has a positive coefficient and would be significant with a significance level of 10%.\n",
    "\n",
    "Further discussion and comments about the results are presented in the report."
   ]
  }
 ],
 "metadata": {
  "kernelspec": {
   "display_name": "Python 3 (ipykernel)",
   "language": "python",
   "name": "python3"
  },
  "language_info": {
   "codemirror_mode": {
    "name": "ipython",
    "version": 3
   },
   "file_extension": ".py",
   "mimetype": "text/x-python",
   "name": "python",
   "nbconvert_exporter": "python",
   "pygments_lexer": "ipython3",
   "version": "3.9.7"
  }
 },
 "nbformat": 4,
 "nbformat_minor": 5
}
